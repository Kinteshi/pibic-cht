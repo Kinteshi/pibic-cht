{
 "metadata": {
  "language_info": {
   "codemirror_mode": {
    "name": "ipython",
    "version": 3
   },
   "file_extension": ".py",
   "mimetype": "text/x-python",
   "name": "python",
   "nbconvert_exporter": "python",
   "pygments_lexer": "ipython3",
   "version": "3.8.6-final"
  },
  "orig_nbformat": 2,
  "kernelspec": {
   "name": "python3",
   "display_name": "Python 3.8.6 64-bit",
   "metadata": {
    "interpreter": {
     "hash": "5f0688d6cc755bf62665a62adcb7c5079d71a8b1b4c640751c0f4ec906605e9f"
    }
   }
  }
 },
 "nbformat": 4,
 "nbformat_minor": 2,
 "cells": [
  {
   "cell_type": "code",
   "execution_count": 1,
   "metadata": {},
   "outputs": [],
   "source": [
    "import pandas as pd"
   ]
  },
  {
   "cell_type": "code",
   "execution_count": 2,
   "metadata": {},
   "outputs": [],
   "source": [
    "data = pd.read_csv('../data/dadosTCE.csv')"
   ]
  },
  {
   "cell_type": "code",
   "execution_count": 3,
   "metadata": {},
   "outputs": [
    {
     "output_type": "stream",
     "name": "stdout",
     "text": [
      "<class 'pandas.core.frame.DataFrame'>\nRangeIndex: 324728 entries, 0 to 324727\nData columns (total 45 columns):\n #   Column                                       Non-Null Count   Dtype  \n---  ------                                       --------------   -----  \n 0   Exercício do orçamento (Ano)(EOF)            324728 non-null  int64  \n 1   Empenho (Sequencial Empenho)(EOF)            324728 non-null  object \n 2   Órgão (Código/Nome)(EOF)                     324728 non-null  object \n 3   Órgão Sucessor Atual (Código/Nome)(EOF)      324728 non-null  object \n 4   Tipo Administração (Nome)(EOF)               324728 non-null  object \n 5   Tipo Poder (Nome)(EOF)                       324728 non-null  object \n 6   Classificação orçamentária (Descrição)(EOF)  324728 non-null  object \n 7   Função (Cod/Nome)(EOF)                       324728 non-null  object \n 8   Subfunção (Cod/Nome)(EOF)                    324728 non-null  object \n 9   Programa (Cod/Nome)(EOF)                     324728 non-null  object \n 10  Ação (Cod/Nome)(EOF)                         324728 non-null  object \n 11  Grupo Despesa (Cod/Nome)(EOF)                324728 non-null  object \n 12  Elemento Despesa (Cod/Nome)(EOF)             324728 non-null  object \n 13  Natureza Despesa (Cod)(EOF)                  324728 non-null  object \n 14  Natureza Despesa (Nome)(EOF)                 324728 non-null  object \n 15  Formalidade (Nome)(EOF)                      324728 non-null  object \n 16  Modalidade Licitação (Nome)(EOF)             324728 non-null  object \n 17  Fonte Recurso (Cod)(EOF)                     324728 non-null  int64  \n 18  Fonte Recurso (Nome)(EOF)                    324728 non-null  object \n 19  Beneficiário (CNPJ)(EOF)                     324728 non-null  object \n 20  Beneficiário (CPF)(EOF)                      324728 non-null  object \n 21  Beneficiário (CPF/CNPJ)(EOF)                 324728 non-null  float64\n 22  Beneficiário (Nome)(EOF)                     324728 non-null  object \n 23  Período (Dia/Mes/Ano)(EOF)                   324728 non-null  int64  \n 24  Empenho (Número do Processo)(EOF)            324728 non-null  object \n 25  Empenho (Sequencial Empenho)(EOF).1          324728 non-null  object \n 26  Empenho (Histórico)(EOF)                     324728 non-null  object \n 27  Valor Empenhado(EOF)                         324728 non-null  float64\n 28  Valor Anulação Empenho(EOF)                  324728 non-null  float64\n 29  Valor Estorno Anulação Empenho(EOF)          324728 non-null  int64  \n 30  Valor Cancelamento Empenho(EOF)              324728 non-null  float64\n 31  Valor Anulação Cancelamento Empenho(EOF)     324728 non-null  int64  \n 32  Valor Saldo do Empenho(EOF)                  324728 non-null  float64\n 33  Valor Liquidação Empenho(EOF)                324728 non-null  float64\n 34  Valor Anulação Liquidacao Empenho(EOF)       324728 non-null  float64\n 35  Valor Saldo Liquidado(EOF)                   324728 non-null  float64\n 36  Valor Ordem de Pagamento(EOF)                324728 non-null  float64\n 37  Valor Guia Recolhimento(EOF)                 324728 non-null  float64\n 38  Valor Anulação Ordem de Pagamento(EOF)       324728 non-null  float64\n 39  Valor Estorno Anulação O. Pagamento(EOF)     324728 non-null  float64\n 40  Valor Estorno Guia Recolhimento(EOF)         324728 non-null  float64\n 41  Valor Saldo Pago(EOF)                        324728 non-null  float64\n 42  Valor Saldo a Pagar(EOF)                     324728 non-null  float64\n 43  Valor a Liquidar(EOF)                        324728 non-null  float64\n 44  Valor a Pagar Liquidado(EOF)                 324728 non-null  float64\ndtypes: float64(17), int64(5), object(23)\nmemory usage: 111.5+ MB\n"
     ]
    }
   ],
   "source": [
    "data.info()"
   ]
  },
  {
   "cell_type": "code",
   "execution_count": 4,
   "metadata": {},
   "outputs": [],
   "source": [
    "textdata = data[['Empenho (Histórico)(EOF)', 'Natureza Despesa (Cod)(EOF)']]\n"
   ]
  },
  {
   "cell_type": "code",
   "execution_count": 5,
   "metadata": {},
   "outputs": [],
   "source": [
    "del data"
   ]
  },
  {
   "cell_type": "code",
   "execution_count": 6,
   "metadata": {},
   "outputs": [],
   "source": [
    "textdata.to_csv('../data/tceTextData.csv', index=False)"
   ]
  },
  {
   "cell_type": "code",
   "execution_count": null,
   "metadata": {},
   "outputs": [],
   "source": []
  }
 ]
}