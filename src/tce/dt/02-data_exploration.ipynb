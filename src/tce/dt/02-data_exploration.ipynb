{
 "cells": [
  {
   "cell_type": "code",
   "execution_count": 48,
   "metadata": {},
   "outputs": [],
   "source": [
    "import pandas as pd\n"
   ]
  },
  {
   "cell_type": "code",
   "execution_count": 1,
   "metadata": {},
   "outputs": [],
   "source": [
    "import re"
   ]
  },
  {
   "cell_type": "code",
   "execution_count": 7,
   "metadata": {},
   "outputs": [
    {
     "name": "stdout",
     "output_type": "stream",
     "text": [
      "Hey you 2312 R$\n"
     ]
    }
   ],
   "source": [
    "print(re.sub('[^A-Za-z0-9 $]+', '', '\\tHey\\n you 2312 R$!'))"
   ]
  },
  {
   "cell_type": "code",
   "execution_count": 5,
   "metadata": {},
   "outputs": [
    {
     "name": "stdout",
     "output_type": "stream",
     "text": [
      "\tHey\n",
      " you 2312 R$!\n"
     ]
    }
   ],
   "source": [
    "print('\\tHey\\n you 2312 R$!')"
   ]
  },
  {
   "cell_type": "code",
   "execution_count": 49,
   "metadata": {},
   "outputs": [],
   "source": [
    "data = pd.read_csv('../data/tceTextData.csv')"
   ]
  },
  {
   "cell_type": "code",
   "execution_count": 50,
   "metadata": {},
   "outputs": [
    {
     "name": "stdout",
     "output_type": "stream",
     "text": [
      "<class 'pandas.core.frame.DataFrame'>\n",
      "RangeIndex: 324728 entries, 0 to 324727\n",
      "Data columns (total 2 columns):\n",
      " #   Column                       Non-Null Count   Dtype \n",
      "---  ------                       --------------   ----- \n",
      " 0   Empenho (Histórico)(EOF)     324728 non-null  object\n",
      " 1   Natureza Despesa (Cod)(EOF)  324728 non-null  object\n",
      "dtypes: object(2)\n",
      "memory usage: 5.0+ MB\n"
     ]
    }
   ],
   "source": [
    "data.info()"
   ]
  },
  {
   "cell_type": "code",
   "execution_count": 51,
   "metadata": {},
   "outputs": [
    {
     "data": {
      "text/plain": [
       "3.1.90.11.10    6203\n",
       "3.3.90.18.05    6130\n",
       "3.3.90.92.23    5673\n",
       "3.3.90.30.09    5356\n",
       "3.3.90.93.02    5284\n",
       "                ... \n",
       "4.4.90.40.16       1\n",
       "3.3.90.39.72       1\n",
       "3.1.90.05.02       1\n",
       "3.3.90.46.03       1\n",
       "4.4.90.52.32       1\n",
       "Name: Natureza Despesa (Cod)(EOF), Length: 650, dtype: int64"
      ]
     },
     "execution_count": 51,
     "metadata": {},
     "output_type": "execute_result"
    }
   ],
   "source": [
    "data['Natureza Despesa (Cod)(EOF)'].value_counts()"
   ]
  },
  {
   "cell_type": "code",
   "execution_count": 52,
   "metadata": {},
   "outputs": [],
   "source": [
    "import re\n",
    "import string \n",
    "from nltk.corpus import stopwords\n",
    "from nltk.stem import PorterStemmer, WordNetLemmatizer\n",
    "from unidecode import unidecode\n",
    "\n",
    "def tolower(text:str):\n",
    "    return text.lower()\n",
    "\n",
    "def remove_urls(text):\n",
    "    temp = re.sub(\"http.?://[^\\s]+[\\s]?\", \"\", text)\n",
    "    text = re.sub(\"(www\\.)[^\\s]+[\\s]?\", \"\", temp)\n",
    "    return text\n",
    "\n",
    "def remove_digits(text:str):\n",
    "    return re.sub(r'\\d+', '', text)\n",
    "\n",
    "def remove_punctuation(text:str):\n",
    "    punct = string.punctuation\n",
    "    translation_table = str.maketrans(punct, len(punct)*' ')\n",
    "    return text.translate(translation_table)\n",
    "\n",
    "def remove_stopwords(text:str):\n",
    "    stopwords_list = stopwords.words('portuguese')\n",
    "    return ' '.join([word for word in text.split(' ') if (word not in stopwords_list) and len(word) > 1])\n",
    "\n",
    "def lemmatize(text:str):\n",
    "    lemmatizer = WordNetLemmatizer()\n",
    "    return ' '.join([lemmatizer.lemmatize(word) for word in text.split(' ')])\n",
    "\n",
    "def stemming(text:str):\n",
    "    stemmer = PorterStemmer()\n",
    "    return ' '.join([stemmer.stem(word) for word in text.split(' ')])\n",
    "\n",
    "def fix_column_name(text:str):\n",
    "    text = re.sub(\"(\\(eof\\))|\\(|\\)\", \"\", text) \n",
    "    text = re.sub(\"(_codigo/nome)|(_cod/nome)|(_dia/mes/ano)|\", \"\", text)\n",
    "    text = re.sub(' ', '', text)\n",
    "    return unidecode(text.lower())\n",
    "\n",
    "def tfidfPipeline(text):\n",
    "    return stemming(remove_stopwords(remove_punctuation(remove_digits(remove_urls(tolower(unidecode(text)))))))\n",
    "\n",
    "def embeddingPipeline(text):\n",
    "    return remove_punctuation(remove_digits(remove_urls(tolower(unidecode(text)))))\n",
    "\n"
   ]
  },
  {
   "cell_type": "code",
   "execution_count": 53,
   "metadata": {},
   "outputs": [],
   "source": [
    "# fix column names\n",
    "data.columns = list(map(fix_column_name, data.columns))"
   ]
  },
  {
   "cell_type": "code",
   "execution_count": 54,
   "metadata": {},
   "outputs": [
    {
     "name": "stdout",
     "output_type": "stream",
     "text": [
      "<class 'pandas.core.frame.DataFrame'>\n",
      "RangeIndex: 324728 entries, 0 to 324727\n",
      "Data columns (total 2 columns):\n",
      " #   Column                 Non-Null Count   Dtype \n",
      "---  ------                 --------------   ----- \n",
      " 0   empenhohistoricoeof    324728 non-null  object\n",
      " 1   naturezadespesacodeof  324728 non-null  object\n",
      "dtypes: object(2)\n",
      "memory usage: 5.0+ MB\n"
     ]
    }
   ],
   "source": [
    "data.info()"
   ]
  },
  {
   "cell_type": "code",
   "execution_count": 55,
   "metadata": {},
   "outputs": [],
   "source": [
    "data.empenhohistoricoeof = data.empenhohistoricoeof.map(tfidfPipeline)\n"
   ]
  },
  {
   "cell_type": "code",
   "execution_count": 56,
   "metadata": {},
   "outputs": [
    {
     "data": {
      "text/plain": [
       "0                       referent construcao nova sede alego\n",
       "1                 referent folha pagamento estagiario marco\n",
       "2                           referent folha estagiario abril\n",
       "3                            referent folha estagiario maio\n",
       "4                           referent folha estagiario junho\n",
       "                                ...                        \n",
       "324723    importancia empenha referent contrato celebrad...\n",
       "324724    importancia empenha referent contrato celebrad...\n",
       "324725    importancia empenha referent contrato prestaca...\n",
       "324726    importancia empenha referent contrato celebrad...\n",
       "324727    importancia empenha referent contrato celebrad...\n",
       "Name: empenhohistoricoeof, Length: 324728, dtype: object"
      ]
     },
     "execution_count": 56,
     "metadata": {},
     "output_type": "execute_result"
    }
   ],
   "source": [
    "data.empenhohistoricoeof"
   ]
  },
  {
   "cell_type": "code",
   "execution_count": 57,
   "metadata": {},
   "outputs": [],
   "source": [
    "data.to_csv('../data/tfidfReadyTextData.csv', index=False)"
   ]
  },
  {
   "cell_type": "code",
   "execution_count": 58,
   "metadata": {},
   "outputs": [],
   "source": [
    "data = pd.read_csv('../data/tceTextData.csv')\n",
    "data.columns = list(map(fix_column_name, data.columns))\n",
    "data.empenhohistoricoeof = data.empenhohistoricoeof.map(embeddingPipeline)\n",
    "data.to_csv('../data/embeddingReadyTextData.csv', index=False)"
   ]
  },
  {
   "cell_type": "code",
   "execution_count": null,
   "metadata": {},
   "outputs": [],
   "source": []
  }
 ],
 "metadata": {
  "kernelspec": {
   "display_name": "Python 3",
   "language": "python",
   "name": "python3"
  },
  "language_info": {
   "codemirror_mode": {
    "name": "ipython",
    "version": 3
   },
   "file_extension": ".py",
   "mimetype": "text/x-python",
   "name": "python",
   "nbconvert_exporter": "python",
   "pygments_lexer": "ipython3",
   "version": "3.8.5"
  }
 },
 "nbformat": 4,
 "nbformat_minor": 2
}
