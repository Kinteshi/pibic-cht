{
 "cells": [
  {
   "cell_type": "code",
   "execution_count": 1,
   "metadata": {},
   "outputs": [],
   "source": [
    "from preprocessing.tratamento import filter_data\n"
   ]
  },
  {
   "cell_type": "code",
   "execution_count": 2,
   "metadata": {},
   "outputs": [],
   "source": [
    "data = filter_data(\n",
    "    'C:\\\\Users\\\\jefma\\\\OneDrive\\\\Documentos\\\\GitHub\\\\pibic-cht\\\\data\\\\dadosTCE.csv',\n",
    "    'C:\\\\Users\\\\jefma\\\\OneDrive\\\\Documentos\\\\GitHub\\\\pibic-cht\\\\data\\\\norel.xlsx'\n",
    ")"
   ]
  },
  {
   "cell_type": "code",
   "execution_count": 3,
   "metadata": {},
   "outputs": [
    {
     "name": "stdout",
     "output_type": "stream",
     "text": [
      "<class 'pandas.core.frame.DataFrame'>\n",
      "RangeIndex: 247896 entries, 0 to 247895\n",
      "Data columns (total 36 columns):\n",
      " #   Column                               Non-Null Count   Dtype  \n",
      "---  ------                               --------------   -----  \n",
      " 0   exercicio_do_orcamento_ano           247896 non-null  int64  \n",
      " 1   orgao                                247896 non-null  object \n",
      " 2   orgao_sucessor_atual                 247896 non-null  object \n",
      " 3   tipo_administracao_nome              247896 non-null  object \n",
      " 4   tipo_poder_nome                      247896 non-null  object \n",
      " 5   funcao                               247896 non-null  object \n",
      " 6   subfuncao                            247896 non-null  object \n",
      " 7   programa                             247896 non-null  object \n",
      " 8   acao                                 247896 non-null  object \n",
      " 9   natureza_despesa_cod                 247896 non-null  object \n",
      " 10  formalidade_nome                     247896 non-null  object \n",
      " 11  modalidade_licitacao_nome            247896 non-null  object \n",
      " 12  fonte_recurso_nome                   247896 non-null  object \n",
      " 13  beneficiario_cnpj                    247896 non-null  object \n",
      " 14  beneficiario_cpf                     247896 non-null  object \n",
      " 15  beneficiario_cpf/cnpj                247896 non-null  float64\n",
      " 16  beneficiario_nome                    247896 non-null  object \n",
      " 17  periodo                              247896 non-null  int64  \n",
      " 18  empenho_numero_do_processo           247896 non-null  object \n",
      " 19  empenho_historico                    247896 non-null  object \n",
      " 20  valor_empenhado                      247896 non-null  float64\n",
      " 21  valor_anulacao_empenho               247896 non-null  float64\n",
      " 22  valor_cancelamento_empenho           247896 non-null  float64\n",
      " 23  valor_saldo_do_empenho               247896 non-null  float64\n",
      " 24  valor_liquidacao_empenho             247896 non-null  float64\n",
      " 25  valor_anulacao_liquidacao_empenho    247896 non-null  float64\n",
      " 26  valor_saldo_liquidado                247896 non-null  float64\n",
      " 27  valor_ordem_de_pagamento             247896 non-null  float64\n",
      " 28  valor_guia_recolhimento              247896 non-null  float64\n",
      " 29  valor_anulacao_ordem_de_pagamento    247896 non-null  float64\n",
      " 30  valor_estorno_anulacao_o._pagamento  247896 non-null  float64\n",
      " 31  valor_estorno_guia_recolhimento      247896 non-null  float64\n",
      " 32  valor_saldo_pago                     247896 non-null  float64\n",
      " 33  valor_saldo_a_pagar                  247896 non-null  float64\n",
      " 34  valor_a_liquidar                     247896 non-null  float64\n",
      " 35  valor_a_pagar_liquidado              247896 non-null  float64\n",
      "dtypes: float64(17), int64(2), object(17)\n",
      "memory usage: 68.1+ MB\n"
     ]
    }
   ],
   "source": [
    "data.info()"
   ]
  },
  {
   "cell_type": "code",
   "execution_count": 4,
   "metadata": {},
   "outputs": [
    {
     "name": "stdout",
     "output_type": "stream",
     "text": [
      "<class 'pandas.core.frame.DataFrame'>\n",
      "RangeIndex: 247896 entries, 0 to 247895\n",
      "Data columns (total 2 columns):\n",
      " #   Column                Non-Null Count   Dtype \n",
      "---  ------                --------------   ----- \n",
      " 0   empenho_historico     247896 non-null  object\n",
      " 1   natureza_despesa_cod  247896 non-null  object\n",
      "dtypes: object(2)\n",
      "memory usage: 3.8+ MB\n"
     ]
    }
   ],
   "source": [
    "data[['empenho_historico', 'natureza_despesa_cod']].info()"
   ]
  },
  {
   "cell_type": "code",
   "execution_count": 6,
   "metadata": {},
   "outputs": [
    {
     "data": {
      "text/plain": "Index(['exercicio_do_orcamento_ano', 'orgao', 'orgao_sucessor_atual',\n       'tipo_administracao_nome', 'tipo_poder_nome', 'funcao', 'subfuncao',\n       'programa', 'acao', 'natureza_despesa_cod', 'formalidade_nome',\n       'modalidade_licitacao_nome', 'fonte_recurso_nome', 'beneficiario_cnpj',\n       'beneficiario_cpf', 'beneficiario_cpf/cnpj', 'beneficiario_nome',\n       'periodo', 'empenho_numero_do_processo', 'empenho_historico',\n       'valor_empenhado', 'valor_anulacao_empenho',\n       'valor_cancelamento_empenho', 'valor_saldo_do_empenho',\n       'valor_liquidacao_empenho', 'valor_anulacao_liquidacao_empenho',\n       'valor_saldo_liquidado', 'valor_ordem_de_pagamento',\n       'valor_guia_recolhimento', 'valor_anulacao_ordem_de_pagamento',\n       'valor_estorno_anulacao_o._pagamento',\n       'valor_estorno_guia_recolhimento', 'valor_saldo_pago',\n       'valor_saldo_a_pagar', 'valor_a_liquidar', 'valor_a_pagar_liquidado'],\n      dtype='object')"
     },
     "execution_count": 6,
     "metadata": {},
     "output_type": "execute_result"
    }
   ],
   "source": [
    "data.columns"
   ]
  },
  {
   "cell_type": "code",
   "execution_count": null,
   "metadata": {},
   "outputs": [],
   "source": []
  }
 ],
 "metadata": {
  "kernelspec": {
   "display_name": "Python 3.8.8 64-bit",
   "metadata": {
    "interpreter": {
     "hash": "d4611e2ba6b51efa1b9a8ce67e0e0256bd2411cf05970862344b8162c0189098"
    }
   },
   "name": "python3"
  },
  "language_info": {
   "codemirror_mode": {
    "name": "ipython",
    "version": 3
   },
   "file_extension": ".py",
   "mimetype": "text/x-python",
   "name": "python",
   "nbconvert_exporter": "python",
   "pygments_lexer": "ipython3",
   "version": "3.8.8"
  },
  "orig_nbformat": 2
 },
 "nbformat": 4,
 "nbformat_minor": 2
}