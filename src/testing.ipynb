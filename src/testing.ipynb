{
 "metadata": {
  "language_info": {
   "codemirror_mode": {
    "name": "ipython",
    "version": 3
   },
   "file_extension": ".py",
   "mimetype": "text/x-python",
   "name": "python",
   "nbconvert_exporter": "python",
   "pygments_lexer": "ipython3",
   "version": "3.8.8-final"
  },
  "orig_nbformat": 2,
  "kernelspec": {
   "name": "python3",
   "display_name": "Python 3.8.8 64-bit",
   "metadata": {
    "interpreter": {
     "hash": "d4611e2ba6b51efa1b9a8ce67e0e0256bd2411cf05970862344b8162c0189098"
    }
   }
  }
 },
 "nbformat": 4,
 "nbformat_minor": 2,
 "cells": [
  {
   "cell_type": "code",
   "execution_count": 1,
   "metadata": {},
   "outputs": [],
   "source": [
    "from preprocessing.tratamento import filter_data\n"
   ]
  },
  {
   "cell_type": "code",
   "execution_count": 2,
   "metadata": {},
   "outputs": [],
   "source": [
    "data = filter_data(\n",
    "    'C:\\\\Users\\\\jefma\\\\OneDrive\\\\Documentos\\\\GitHub\\\\pibic-cht\\\\data\\\\dadosTCE.csv',\n",
    "    'C:\\\\Users\\\\jefma\\\\OneDrive\\\\Documentos\\\\GitHub\\\\pibic-cht\\\\data\\\\norel.xlsx'\n",
    ")"
   ]
  },
  {
   "cell_type": "code",
   "execution_count": 3,
   "metadata": {},
   "outputs": [
    {
     "output_type": "stream",
     "name": "stdout",
     "text": [
      "<class 'pandas.core.frame.DataFrame'>\nRangeIndex: 247896 entries, 0 to 247895\nData columns (total 36 columns):\n #   Column                               Non-Null Count   Dtype  \n---  ------                               --------------   -----  \n 0   exercicio_do_orcamento_ano           247896 non-null  int64  \n 1   orgao                                247896 non-null  object \n 2   orgao_sucessor_atual                 247896 non-null  object \n 3   tipo_administracao_nome              247896 non-null  object \n 4   tipo_poder_nome                      247896 non-null  object \n 5   funcao                               247896 non-null  object \n 6   subfuncao                            247896 non-null  object \n 7   programa                             247896 non-null  object \n 8   acao                                 247896 non-null  object \n 9   natureza_despesa_cod                 247896 non-null  object \n 10  formalidade_nome                     247896 non-null  object \n 11  modalidade_licitacao_nome            247896 non-null  object \n 12  fonte_recurso_nome                   247896 non-null  object \n 13  beneficiario_cnpj                    247896 non-null  object \n 14  beneficiario_cpf                     247896 non-null  object \n 15  beneficiario_cpf/cnpj                247896 non-null  float64\n 16  beneficiario_nome                    247896 non-null  object \n 17  periodo                              247896 non-null  int64  \n 18  empenho_numero_do_processo           247896 non-null  object \n 19  empenho_historico                    247896 non-null  object \n 20  valor_empenhado                      247896 non-null  float64\n 21  valor_anulacao_empenho               247896 non-null  float64\n 22  valor_cancelamento_empenho           247896 non-null  float64\n 23  valor_saldo_do_empenho               247896 non-null  float64\n 24  valor_liquidacao_empenho             247896 non-null  float64\n 25  valor_anulacao_liquidacao_empenho    247896 non-null  float64\n 26  valor_saldo_liquidado                247896 non-null  float64\n 27  valor_ordem_de_pagamento             247896 non-null  float64\n 28  valor_guia_recolhimento              247896 non-null  float64\n 29  valor_anulacao_ordem_de_pagamento    247896 non-null  float64\n 30  valor_estorno_anulacao_o._pagamento  247896 non-null  float64\n 31  valor_estorno_guia_recolhimento      247896 non-null  float64\n 32  valor_saldo_pago                     247896 non-null  float64\n 33  valor_saldo_a_pagar                  247896 non-null  float64\n 34  valor_a_liquidar                     247896 non-null  float64\n 35  valor_a_pagar_liquidado              247896 non-null  float64\ndtypes: float64(17), int64(2), object(17)\nmemory usage: 68.1+ MB\n"
     ]
    }
   ],
   "source": [
    "data.info()"
   ]
  },
  {
   "cell_type": "code",
   "execution_count": 6,
   "metadata": {},
   "outputs": [
    {
     "output_type": "stream",
     "name": "stdout",
     "text": [
      "<class 'pandas.core.frame.DataFrame'>\nRangeIndex: 247896 entries, 0 to 247895\nData columns (total 2 columns):\n #   Column                Non-Null Count   Dtype \n---  ------                --------------   ----- \n 0   empenho_historico     247896 non-null  object\n 1   natureza_despesa_cod  247896 non-null  object\ndtypes: object(2)\nmemory usage: 3.8+ MB\n"
     ]
    }
   ],
   "source": [
    "data[['empenho_historico', 'natureza_despesa_cod']].info()"
   ]
  },
  {
   "cell_type": "code",
   "execution_count": 8,
   "metadata": {},
   "outputs": [
    {
     "output_type": "error",
     "ename": "AttributeError",
     "evalue": "'DataFrame' object has no attribute 'column'",
     "traceback": [
      "\u001b[1;31m---------------------------------------------------------------------------\u001b[0m",
      "\u001b[1;31mAttributeError\u001b[0m                            Traceback (most recent call last)",
      "\u001b[1;32m<ipython-input-8-57997220efc1>\u001b[0m in \u001b[0;36m<module>\u001b[1;34m\u001b[0m\n\u001b[1;32m----> 1\u001b[1;33m \u001b[0mdata\u001b[0m\u001b[1;33m.\u001b[0m\u001b[0mcolumn\u001b[0m\u001b[1;33m\u001b[0m\u001b[1;33m\u001b[0m\u001b[0m\n\u001b[0m",
      "\u001b[1;32m~\\AppData\\Local\\Programs\\Python\\Python38\\lib\\site-packages\\pandas\\core\\generic.py\u001b[0m in \u001b[0;36m__getattr__\u001b[1;34m(self, name)\u001b[0m\n\u001b[0;32m   5463\u001b[0m             \u001b[1;32mif\u001b[0m \u001b[0mself\u001b[0m\u001b[1;33m.\u001b[0m\u001b[0m_info_axis\u001b[0m\u001b[1;33m.\u001b[0m\u001b[0m_can_hold_identifiers_and_holds_name\u001b[0m\u001b[1;33m(\u001b[0m\u001b[0mname\u001b[0m\u001b[1;33m)\u001b[0m\u001b[1;33m:\u001b[0m\u001b[1;33m\u001b[0m\u001b[1;33m\u001b[0m\u001b[0m\n\u001b[0;32m   5464\u001b[0m                 \u001b[1;32mreturn\u001b[0m \u001b[0mself\u001b[0m\u001b[1;33m[\u001b[0m\u001b[0mname\u001b[0m\u001b[1;33m]\u001b[0m\u001b[1;33m\u001b[0m\u001b[1;33m\u001b[0m\u001b[0m\n\u001b[1;32m-> 5465\u001b[1;33m             \u001b[1;32mreturn\u001b[0m \u001b[0mobject\u001b[0m\u001b[1;33m.\u001b[0m\u001b[0m__getattribute__\u001b[0m\u001b[1;33m(\u001b[0m\u001b[0mself\u001b[0m\u001b[1;33m,\u001b[0m \u001b[0mname\u001b[0m\u001b[1;33m)\u001b[0m\u001b[1;33m\u001b[0m\u001b[1;33m\u001b[0m\u001b[0m\n\u001b[0m\u001b[0;32m   5466\u001b[0m \u001b[1;33m\u001b[0m\u001b[0m\n\u001b[0;32m   5467\u001b[0m     \u001b[1;32mdef\u001b[0m \u001b[0m__setattr__\u001b[0m\u001b[1;33m(\u001b[0m\u001b[0mself\u001b[0m\u001b[1;33m,\u001b[0m \u001b[0mname\u001b[0m\u001b[1;33m:\u001b[0m \u001b[0mstr\u001b[0m\u001b[1;33m,\u001b[0m \u001b[0mvalue\u001b[0m\u001b[1;33m)\u001b[0m \u001b[1;33m->\u001b[0m \u001b[1;32mNone\u001b[0m\u001b[1;33m:\u001b[0m\u001b[1;33m\u001b[0m\u001b[1;33m\u001b[0m\u001b[0m\n",
      "\u001b[1;31mAttributeError\u001b[0m: 'DataFrame' object has no attribute 'column'"
     ]
    }
   ],
   "source": [
    "data.column"
   ]
  },
  {
   "cell_type": "code",
   "execution_count": null,
   "metadata": {},
   "outputs": [],
   "source": []
  }
 ]
}